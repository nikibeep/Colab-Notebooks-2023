{
 "cells": [
  {
   "cell_type": "code",
   "execution_count": 2,
   "metadata": {},
   "outputs": [
    {
     "name": "stdout",
     "output_type": "stream",
     "text": [
      "8\n"
     ]
    }
   ],
   "source": [
    "print(len(\"95637+12\"))\n"
   ]
  },
  {
   "cell_type": "code",
   "execution_count": 3,
   "metadata": {},
   "outputs": [
    {
     "name": "stdout",
     "output_type": "stream",
     "text": [
      "B\n"
     ]
    }
   ],
   "source": [
    "score=67\n",
    "if score < 80 and score > 70:\n",
    "    print(\"A\")\n",
    "elif score < 90 or score > 80:\n",
    "    print(\"B\")\n",
    "elif score > 60:\n",
    "    print(\"C\")\n",
    "else:\n",
    "    print(\"D\")\n",
    "    "
   ]
  },
  {
   "cell_type": "code",
   "execution_count": 4,
   "metadata": {},
   "outputs": [
    {
     "name": "stdout",
     "output_type": "stream",
     "text": [
      "15\n"
     ]
    }
   ],
   "source": [
    "def outer_function(a,b):\n",
    "    def inner_function(c,d):\n",
    "        return c + d\n",
    "    return inner_function(a,b)\n",
    "result = outer_function(5,10)\n",
    "print(result)\n"
   ]
  },
  {
   "cell_type": "code",
   "execution_count": 1,
   "metadata": {},
   "outputs": [
    {
     "name": "stdout",
     "output_type": "stream",
     "text": [
      "20 4 14\n"
     ]
    }
   ],
   "source": [
    "def foo(a, b=4, c=6):\n",
    "    print(a, b, c)\n",
    "foo(20,c=14)"
   ]
  },
  {
   "cell_type": "code",
   "execution_count": 2,
   "metadata": {},
   "outputs": [
    {
     "name": "stdout",
     "output_type": "stream",
     "text": [
      "4 (7, 3, 0) {'x': 10, 'y': 64}\n"
     ]
    }
   ],
   "source": [
    "def all_abroad(a, *args,**kw):\n",
    "    print(a, args, kw)\n",
    "all_abroad(4, 7, 3, 0, x=10, y=64)"
   ]
  },
  {
   "cell_type": "code",
   "execution_count": 3,
   "metadata": {},
   "outputs": [
    {
     "name": "stdout",
     "output_type": "stream",
     "text": [
      "[5, 11, 37]\n"
     ]
    }
   ],
   "source": [
    "numbers=[1,1,2,3,5,8,13,21,34,55]\n",
    "result=[num + 3 for num in numbers if num % 2==0]\n",
    "print(result)"
   ]
  }
 ],
 "metadata": {
  "kernelspec": {
   "display_name": "Python 3",
   "language": "python",
   "name": "python3"
  },
  "language_info": {
   "codemirror_mode": {
    "name": "ipython",
    "version": 3
   },
   "file_extension": ".py",
   "mimetype": "text/x-python",
   "name": "python",
   "nbconvert_exporter": "python",
   "pygments_lexer": "ipython3",
   "version": "3.10.9 (tags/v3.10.9:1dd9be6, Dec  6 2022, 20:01:21) [MSC v.1934 64 bit (AMD64)]"
  },
  "orig_nbformat": 4,
  "vscode": {
   "interpreter": {
    "hash": "47f3f72424daa5524080de032b7d53e6de63610297dddcfeb4e85e03f001eff9"
   }
  }
 },
 "nbformat": 4,
 "nbformat_minor": 2
}
